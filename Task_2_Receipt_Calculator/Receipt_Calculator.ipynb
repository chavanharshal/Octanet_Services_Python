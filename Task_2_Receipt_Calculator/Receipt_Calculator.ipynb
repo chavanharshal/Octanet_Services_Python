# Task 2 : Receipt Calculator
import os
from fpdf import FPDF  # For generating PDF receipts

class Item:
    def __init__(self, name, price, quantity):
        self.name = name
        self.price = price
        self.quantity = quantity

    def get_total(self):
        return self.price * self.quantity

class Receipt:
    def __init__(self, tax_rate=0.05, discount_rate=0.10):
        self.items = []
        self.tax_rate = tax_rate
        self.discount_rate = discount_rate

    def add_item(self, item):
        self.items.append(item)

    def calculate_subtotal(self):
        return sum(item.get_total() for item in self.items)

    def calculate_tax(self):
        return self.calculate_subtotal() * self.tax_rate

    def calculate_discount(self):
        return self.calculate_subtotal() * self.discount_rate

    def calculate_total(self):
        return self.calculate_subtotal() + self.calculate_tax() - self.calculate_discount()

    def generate_receipt(self):
        receipt_lines = []
        receipt_lines.append("Receipt:")
        receipt_lines.append("------------------------------")
        for item in self.items:
            receipt_lines.append(f"{item.name} x{item.quantity}: ₹{item.get_total():,.2f}")
        receipt_lines.append("------------------------------")
        receipt_lines.append(f"Subtotal: ₹{self.calculate_subtotal():,.2f}")
        receipt_lines.append(f"Tax ({self.tax_rate * 100}%): ₹{self.calculate_tax():,.2f}")
        receipt_lines.append(f"Discount ({self.discount_rate * 100}%): -₹{self.calculate_discount():,.2f}")
        receipt_lines.append(f"Total: ₹{self.calculate_total():,.2f}")
        return receipt_lines

    def save_receipt(self, filename):
        receipt_lines = self.generate_receipt()
        with open(f"{filename}.txt", "w", encoding="utf-8") as file:
            file.write("\n".join(receipt_lines))

    def save_receipt_as_pdf(self, filename):
        receipt_lines = self.generate_receipt()
        pdf = FPDF()
        pdf.add_page()
        pdf.set_font("Arial", size=12)  # Using the built-in Arial font

        for line in receipt_lines:
            pdf.cell(200, 10, txt=line, ln=True, align='L')
        pdf.output(f"{filename}.pdf")

def main():
    receipt = Receipt()

    while True:
        name = input("Enter item name (or 'done' to finish): ")
        if name.lower() == 'done':
            break
        price = float(input(f"Enter price for {name}: ₹"))
        quantity = int(input(f"Enter quantity for {name}: "))

        item = Item(name, price, quantity)
        receipt.add_item(item)

    receipt_lines = receipt.generate_receipt()
    for line in receipt_lines:
        print(line)

    save_choice = input("Do you want to save the receipt? (yes/no): ").strip().lower()
    if save_choice == 'yes':
        filename = input("Enter the filename (without extension): ").strip()
        receipt.save_receipt(filename)
        pdf_choice = input("Do you also want to save it as a PDF? (yes/no): ").strip().lower()
        if pdf_choice == 'yes':
            receipt.save_receipt_as_pdf(filename)
            print(f"Receipt saved as {filename}.txt and {filename}.pdf")
        else:
            print(f"Receipt saved as {filename}.txt")
    else:
        print("Receipt not saved.")

if __name__ == "__main__":
    main()
